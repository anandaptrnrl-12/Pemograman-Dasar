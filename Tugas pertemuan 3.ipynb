{
  "nbformat": 4,
  "nbformat_minor": 0,
  "metadata": {
    "colab": {
      "provenance": [],
      "authorship_tag": "ABX9TyOvv+2IZZojPN75vBeQORkC",
      "include_colab_link": true
    },
    "kernelspec": {
      "name": "python3",
      "display_name": "Python 3"
    },
    "language_info": {
      "name": "python"
    }
  },
  "cells": [
    {
      "cell_type": "markdown",
      "metadata": {
        "id": "view-in-github",
        "colab_type": "text"
      },
      "source": [
        "<a href=\"https://colab.research.google.com/github/anandaptrnrl-12/Pemograman-Dasar/blob/main/Tugas%20pertemuan%203.ipynb\" target=\"_parent\"><img src=\"https://colab.research.google.com/assets/colab-badge.svg\" alt=\"Open In Colab\"/></a>"
      ]
    },
    {
      "cell_type": "code",
      "execution_count": 12,
      "metadata": {
        "colab": {
          "base_uri": "https://localhost:8080/"
        },
        "id": "X5D7Mvv06TSc",
        "outputId": "228a0c7e-6b7b-4fc2-84c5-19c674762086"
      },
      "outputs": [
        {
          "output_type": "stream",
          "name": "stdout",
          "text": [
            "Masukkan jumlah item yang dibeli: 3\n",
            "Masukkan harga item ke-1: Rp 50000\n",
            "Masukkan harga item ke-2: Rp 40000\n",
            "Masukkan harga item ke-3: Rp 30000\n",
            "Apakah Pelanggan member? (ya / tidak): ya\n",
            "\n",
            "Subtotal = Rp 120000.0\n",
            "Diskon = Rp 18000.0\n",
            "Harga setelah diskon = Rp 102000.0\n",
            "PPN (11%) = Rp 11220.0\n",
            "Total yang harus dibayar = Rp 113220.0\n"
          ]
        }
      ],
      "source": [
        "jumlah_item = int(input(\"Masukkan jumlah item yang dibeli: \"))\n",
        "\n",
        "subtotal = 0\n",
        "for i in range (jumlah_item):\n",
        "  harga = float(input(F\"Masukkan harga item ke-{i+1}: Rp \"))\n",
        "  subtotal += harga\n",
        "\n",
        "member = input(\"Apakah Pelanggan member? (ya / tidak): \").lower()\n",
        "\n",
        "if member == \"ya\" and subtotal > 100000:\n",
        "  diskon = 0.15 * subtotal\n",
        "else:\n",
        "  diskon =0\n",
        "\n",
        "harga_setelah_diskon = subtotal - diskon\n",
        "\n",
        "ppn = 0.11 * harga_setelah_diskon\n",
        "\n",
        "total_akhir = harga_setelah_diskon + ppn\n",
        "\n",
        "print(\"\\nSubtotal = Rp\", subtotal)\n",
        "print(\"Diskon = Rp\", diskon)\n",
        "print(\"Harga setelah diskon = Rp\", harga_setelah_diskon)\n",
        "print(\"PPN (11%) = Rp\", ppn)\n",
        "print(\"Total yang harus dibayar = Rp\", total_akhir)"
      ]
    },
    {
      "cell_type": "code",
      "source": [],
      "metadata": {
        "id": "NCeSmGKi9v89"
      },
      "execution_count": null,
      "outputs": []
    }
  ]
}