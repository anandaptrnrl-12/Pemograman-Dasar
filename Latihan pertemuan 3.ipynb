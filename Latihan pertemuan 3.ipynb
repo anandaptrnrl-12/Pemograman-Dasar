{
  "nbformat": 4,
  "nbformat_minor": 0,
  "metadata": {
    "colab": {
      "provenance": [],
      "authorship_tag": "ABX9TyPviCMGyRyQ8Dsxky5mXpN6",
      "include_colab_link": true
    },
    "kernelspec": {
      "name": "python3",
      "display_name": "Python 3"
    },
    "language_info": {
      "name": "python"
    }
  },
  "cells": [
    {
      "cell_type": "markdown",
      "metadata": {
        "id": "view-in-github",
        "colab_type": "text"
      },
      "source": [
        "<a href=\"https://colab.research.google.com/github/anandaptrnrl-12/Pemograman-Dasar/blob/main/Latihan%20pertemuan%203.ipynb\" target=\"_parent\"><img src=\"https://colab.research.google.com/assets/colab-badge.svg\" alt=\"Open In Colab\"/></a>"
      ]
    },
    {
      "cell_type": "code",
      "execution_count": 8,
      "metadata": {
        "colab": {
          "base_uri": "https://localhost:8080/"
        },
        "id": "7viBNuohyBZS",
        "outputId": "23a6c05f-f989-4bd5-acfe-fc950d8a1b95"
      },
      "outputs": [
        {
          "output_type": "stream",
          "name": "stdout",
          "text": [
            "Masukkan tahun: 2019\n",
            "2019 bukan tahun kabisat\n"
          ]
        }
      ],
      "source": [
        "tahun = int(input(\"Masukkan tahun: \"))\n",
        "\n",
        "if (tahun % 4 == 0 and tahun % 100 != 0) or (tahun % 400 == 0):\n",
        "    print(f\"{tahun} adalah kabisat\")\n",
        "\n",
        "else:\n",
        "  print(f\"{tahun} bukan tahun kabisat\")\n"
      ]
    },
    {
      "cell_type": "code",
      "source": [
        "def input_angka():\n",
        "  return float(input(\"Masukkan angka: \"))\n",
        "def tambah (a, b):\n",
        "  return a + b\n",
        "def kurang (a, b):\n",
        "  return a - b\n",
        "def kali (a, b):\n",
        "  return a * b\n",
        "def bagi (a, b):\n",
        "  if b != 0:\n",
        "    return a / b\n",
        "  else:\n",
        "    return \"Tidak bisa dibagi 0\"\n",
        "\n",
        "def tampilkan_hasil(hasil):\n",
        "  print(\"Hasil operasi=\", hasil)\n",
        "  print(\"=== Kalkulator Sederhana ===\")\n",
        "  angka1 = input_angka(15)\n",
        "  angka2 = input_angka(23)\n",
        "\n",
        "print(\"pilih operasi: +, -, *, /\")\n",
        "operasi = input(\"Masukkan operasi: \")\n",
        "\n",
        "if operasi == \"+\":\n",
        "  tampilkan_hasil(tambah(angka1, angka2))\n",
        "elif operasi == \"-\":\n",
        "  tampilkan_hasil(kurang(angka1, angka2))\n",
        "elif operasi == \"*\":\n",
        "  tampilkan_hasil(kali(angka1, angka2))\n",
        "elif operasi == \"/\":\n",
        "  tampilkan_hasil(bagi(angka1, angka2))\n",
        "else:\n",
        "  print(\"Operasi tidak valid!\")"
      ],
      "metadata": {
        "colab": {
          "base_uri": "https://localhost:8080/"
        },
        "id": "i3HxnGe_0N4D",
        "outputId": "db292af6-8388-41a0-d6be-695d4e59b512"
      },
      "execution_count": 20,
      "outputs": [
        {
          "output_type": "stream",
          "name": "stdout",
          "text": [
            "pilih operasi: +, -, *, /\n",
            "Masukkan operasi: 23\n",
            "Operasi tidak valid!\n"
          ]
        }
      ]
    }
  ]
}