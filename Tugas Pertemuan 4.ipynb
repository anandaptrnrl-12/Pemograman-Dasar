{
  "nbformat": 4,
  "nbformat_minor": 0,
  "metadata": {
    "colab": {
      "provenance": [],
      "authorship_tag": "ABX9TyO42infcXbwmk7vNkcc/pB8",
      "include_colab_link": true
    },
    "kernelspec": {
      "name": "python3",
      "display_name": "Python 3"
    },
    "language_info": {
      "name": "python"
    }
  },
  "cells": [
    {
      "cell_type": "markdown",
      "metadata": {
        "id": "view-in-github",
        "colab_type": "text"
      },
      "source": [
        "<a href=\"https://colab.research.google.com/github/anandaptrnrl-12/Pemograman-Dasar/blob/main/Tugas%20Pertemuan%204.ipynb\" target=\"_parent\"><img src=\"https://colab.research.google.com/assets/colab-badge.svg\" alt=\"Open In Colab\"/></a>"
      ]
    },
    {
      "cell_type": "code",
      "source": [
        "print(\"=\"*30)\n",
        "print(\"SELAMAT DATANG DI KAFE GEMINI\")\n",
        "print(\"=\"*30)\n",
        "print(\"Menu Makanan & Minuman:\")\n",
        "print(\"1. Kopi Hitam      - Rp 12.000\")\n",
        "print(\"2. Teh Manis       - Rp 8.000\")\n",
        "print(\"3. Roti Bakar      - Rp 15.000\")\n",
        "print(\"4. Mie Instan      - Rp 10.000\")\n",
        "print(\"=\"*30)\n",
        "\n",
        "pilihan_str = input(\"Silakan masukkan nomor pilihan Anda (1-4): \")\n",
        "pilihan = int(pilihan_str)\n",
        "nama_pesanan = \"\"\n",
        "harga = 0\n",
        "\n",
        "if pilihan == 1:\n",
        "    nama_pesanan = \"Kopi Hitam\"\n",
        "    harga = 12000\n",
        "elif pilihan == 2:\n",
        "    nama_pesanan = \"Teh Manis\"\n",
        "    harga = 8000\n",
        "elif pilihan == 3:\n",
        "    nama_pesanan = \"Roti Bakar\"\n",
        "    harga = 15000\n",
        "elif pilihan == 4:\n",
        "    nama_pesanan = \"Mie Instan\"\n",
        "    harga = 10000\n",
        "else:\n",
        "    print(\"Maaf, pilihan menu tidak valid.\")\n",
        "    exit()\n",
        "\n",
        "print(f\"Anda memesan: {nama_pesanan} dengan harga Rp {harga}\")\n",
        "\n",
        "print(\"=\"*30)\n",
        "\n",
        "uang_dibayar_str = input(f\"Total yang harus dibayar Rp {harga}. Masukkan jumlah uang Anda: Rp \")\n",
        "uang_dibayar = int(uang_dibayar_str)\n",
        "\n",
        "# ===============================\n",
        "# Tambahan Diskon\n",
        "# ===============================\n",
        "diskon = 0\n",
        "if harga >= 50000:\n",
        "    diskon = 0.7 * harga   # diskon 70%\n",
        "elif harga >= 30000:\n",
        "    diskon = 0.5 * harga   # diskon 50%\n",
        "elif harga >= 20000:\n",
        "    diskon = 0.3 * harga   # diskon 30%\n",
        "\n",
        "total_bayar = harga - diskon\n",
        "\n",
        "print(\"=\"*30)\n",
        "print(\"=== Struk Pembayaran ===\")\n",
        "print(\"Pesanan Anda     :\", nama_pesanan)\n",
        "print(\"Harga Asli       : Rp\", harga)\n",
        "print(\"Diskon           : Rp\", int(diskon))\n",
        "print(\"Total Bayar      : Rp\", int(total_bayar))\n",
        "print(\"Uang Pembayaran  : Rp\", uang_dibayar)\n",
        "\n",
        "if uang_dibayar >= total_bayar:\n",
        "    kembalian = uang_dibayar - total_bayar\n",
        "    print(\"Kembalian        : Rp\", int(kembalian))\n",
        "    print(\">>> Terima Kasih Telah Berbelanja <<<\")\n",
        "else:\n",
        "    kurang = total_bayar - uang_dibayar\n",
        "    print(\" Maaf, uang Anda kurang sebesar Rp\", int(kurang))"
      ],
      "metadata": {
        "colab": {
          "base_uri": "https://localhost:8080/"
        },
        "id": "7q0YzOGIGfEK",
        "outputId": "5639843d-c441-417d-bdd4-c61595c1f235"
      },
      "execution_count": 13,
      "outputs": [
        {
          "output_type": "stream",
          "name": "stdout",
          "text": [
            "==============================\n",
            "SELAMAT DATANG DI KAFE GEMINI\n",
            "==============================\n",
            "Menu Makanan & Minuman:\n",
            "1. Kopi Hitam      - Rp 12.000\n",
            "2. Teh Manis       - Rp 8.000\n",
            "3. Roti Bakar      - Rp 15.000\n",
            "4. Mie Instan      - Rp 10.000\n",
            "==============================\n",
            "Silakan masukkan nomor pilihan Anda (1-4): 2\n",
            "Anda memesan: Teh Manis dengan harga Rp 8000\n",
            "==============================\n",
            "Total yang harus dibayar Rp 8000. Masukkan jumlah uang Anda: Rp 5000\n",
            "==============================\n",
            "=== Struk Pembayaran ===\n",
            "Pesanan Anda     : Teh Manis\n",
            "Harga Asli       : Rp 8000\n",
            "Diskon           : Rp 0\n",
            "Total Bayar      : Rp 8000\n",
            "Uang Pembayaran  : Rp 5000\n",
            " Maaf, uang Anda kurang sebesar Rp 3000\n"
          ]
        }
      ]
    }
  ]
}