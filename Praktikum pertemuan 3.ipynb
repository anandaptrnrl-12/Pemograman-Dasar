{
  "nbformat": 4,
  "nbformat_minor": 0,
  "metadata": {
    "colab": {
      "provenance": [],
      "authorship_tag": "ABX9TyMEoy/XEMhFZmwieya7Siaa",
      "include_colab_link": true
    },
    "kernelspec": {
      "name": "python3",
      "display_name": "Python 3"
    },
    "language_info": {
      "name": "python"
    }
  },
  "cells": [
    {
      "cell_type": "markdown",
      "metadata": {
        "id": "view-in-github",
        "colab_type": "text"
      },
      "source": [
        "<a href=\"https://colab.research.google.com/github/anandaptrnrl-12/Pemograman-Dasar/blob/main/Praktikum%20pertemuan%203.ipynb\" target=\"_parent\"><img src=\"https://colab.research.google.com/assets/colab-badge.svg\" alt=\"Open In Colab\"/></a>"
      ]
    },
    {
      "cell_type": "code",
      "execution_count": null,
      "metadata": {
        "colab": {
          "base_uri": "https://localhost:8080/"
        },
        "id": "IwmdgtlOTQgV",
        "outputId": "40440703-6b4b-495b-f69e-6a0b273a2da5"
      },
      "outputs": [
        {
          "name": "stdout",
          "output_type": "stream",
          "text": [
            "Berapa porsi makan yang anda beli? :3.2\n",
            "siapa nama pelanggan ? : Ananda\n"
          ]
        }
      ],
      "source": [
        "total = float (input(\"Berapa porsi makan yang anda beli? :\"))\n",
        "Nama = str (input(\"siapa nama pelanggan ? : \"))"
      ]
    },
    {
      "cell_type": "code",
      "source": [
        "jumlah = 5\n",
        "print(\"saya membeli %d baju\" %(jumlah))"
      ],
      "metadata": {
        "colab": {
          "base_uri": "https://localhost:8080/"
        },
        "id": "4ihVM-eDWiPK",
        "outputId": "ae0a352d-8853-4421-d2c5-27c3483fd6ec"
      },
      "execution_count": null,
      "outputs": [
        {
          "output_type": "stream",
          "name": "stdout",
          "text": [
            "saya membeli 5 baju\n"
          ]
        }
      ]
    },
    {
      "cell_type": "code",
      "source": [
        "panjang = 13.2\n",
        "print(\"pohon itu memiliki tinngi %f meter\" %(panjang))"
      ],
      "metadata": {
        "colab": {
          "base_uri": "https://localhost:8080/"
        },
        "id": "OMDT7OnqXz9X",
        "outputId": "47805b76-d06e-4499-8916-55a9b9c78d41"
      },
      "execution_count": null,
      "outputs": [
        {
          "output_type": "stream",
          "name": "stdout",
          "text": [
            "pohon itu memiliki tinngi 13.200000 meter\n"
          ]
        }
      ]
    },
    {
      "cell_type": "code",
      "source": [
        "nama = \"Ananda\"\n",
        "print(\"Hai kenalin nama aku %s\" %(nama))"
      ],
      "metadata": {
        "colab": {
          "base_uri": "https://localhost:8080/"
        },
        "id": "vw-bQgJRY9NI",
        "outputId": "2a73ef56-1f6f-4706-9105-e1fa0b0a0f95"
      },
      "execution_count": null,
      "outputs": [
        {
          "output_type": "stream",
          "name": "stdout",
          "text": [
            "Hai kenalin nama aku Ananda\n"
          ]
        }
      ]
    },
    {
      "cell_type": "code",
      "source": [
        "a = 30\n",
        "b = 7\n",
        "print(\"penjumlahan:\", a + b)\n",
        "print(\"pengurangan:\", a - b)\n",
        "print(\"perkalian:\", a * b)\n",
        "print(\"pembagian:\", a / b)\n"
      ],
      "metadata": {
        "colab": {
          "base_uri": "https://localhost:8080/"
        },
        "id": "RYWlXuP9a2Oq",
        "outputId": "90224c30-6d24-41ec-b39e-8e95c7008841"
      },
      "execution_count": null,
      "outputs": [
        {
          "output_type": "stream",
          "name": "stdout",
          "text": [
            "penjumlahan: 37\n",
            "pengurangan: 23\n",
            "perkalian: 210\n",
            "pembagian: 4.285714285714286\n"
          ]
        }
      ]
    },
    {
      "cell_type": "code",
      "source": [
        "bilangan = 4\n",
        "hasil = (bilangan > 0) and (bilangan % 2 == 0)\n",
        "print(\"Genap dan positif?\", hasil)"
      ],
      "metadata": {
        "colab": {
          "base_uri": "https://localhost:8080/"
        },
        "id": "JYrGOTVabsyN",
        "outputId": "223a688b-bde9-4fa0-9725-d51e59dc37de"
      },
      "execution_count": null,
      "outputs": [
        {
          "output_type": "stream",
          "name": "stdout",
          "text": [
            "Genap dan positif? True\n"
          ]
        }
      ]
    },
    {
      "cell_type": "code",
      "source": [
        "harga_makan = int(input(\"Berapa harga x1 ayam per porsi? \"))\n",
        "jumlah_makan = int(input(\"Berapa porsi yang anda beli? \"))\n",
        "total_makan = harga_makan * jumlah_makan\n",
        "print(f\"harga makan per porsi = {harga_makan}, totalnya adalah {total_makan}\")"
      ],
      "metadata": {
        "colab": {
          "base_uri": "https://localhost:8080/"
        },
        "id": "46udYHBHcUb2",
        "outputId": "04de79c2-bd40-4435-cb79-de405d3c36bf"
      },
      "execution_count": null,
      "outputs": [
        {
          "output_type": "stream",
          "name": "stdout",
          "text": [
            "Berapa harga x1 ayam per porsi? 20000\n",
            "Berapa porsi yang anda beli? 2\n",
            "harga makan per porsi = 20000, totalnya adalah 40000\n"
          ]
        }
      ]
    },
    {
      "cell_type": "code",
      "source": [
        "total_detik = 3600\n",
        "jam = total_detik // 3600\n",
        "sisa_detik = total_detik % 3600\n",
        "menit = sisa_detik // 6\n",
        "detik = sisa_detik % 60\n",
        "print(f\"Hasil koversi: {jam} Jam, {menit} Menit, {detik} Detik\")\n",
        "total_detik = int(input(\"total_detik\"))"
      ],
      "metadata": {
        "colab": {
          "base_uri": "https://localhost:8080/"
        },
        "id": "_A_4uaePdAkE",
        "outputId": "833304be-e6ee-4d48-ff50-e81c35728215"
      },
      "execution_count": null,
      "outputs": [
        {
          "name": "stdout",
          "output_type": "stream",
          "text": [
            "Hasil koversi: 1 Jam, 0 Menit, 0 Detik\n",
            "total_detik358200\n"
          ]
        }
      ]
    },
    {
      "cell_type": "code",
      "source": [
        "nilai_mahasiswa = float(input(\"95\"))\n",
        "standar_kelulusan = float(input(\"75\"))\n",
        "\n",
        "apakah_lulus = nilai_mahasiswa >= standar_kelulusan\n",
        "perlu_remedial = nilai_mahasiswa < standar_kelulusan\n",
        "\n",
        "print(f\"Nilai mahasiswa: {nilai_mahasiswa}\")\n",
        "print(f\"Standar kelulusan: {standar_kelulusan}\")\n",
        "print(f\"Apakah mahasiswa lulus? {apakah_lulus}\")\n",
        "print(f\"Perlu remedial? {perlu_remedial}\")"
      ],
      "metadata": {
        "colab": {
          "base_uri": "https://localhost:8080/"
        },
        "id": "YtlnyZtRhkxw",
        "outputId": "4da2cb5b-4f01-40de-bd12-9145c2df397c"
      },
      "execution_count": 5,
      "outputs": [
        {
          "output_type": "stream",
          "name": "stdout",
          "text": [
            "9595\n",
            "7575\n",
            "Nilai mahasiswa: 95.0\n",
            "Standar kelulusan: 75.0\n",
            "Apakah mahasiswa lulus? True\n",
            "Perlu remedial? False\n"
          ]
        }
      ]
    },
    {
      "cell_type": "code",
      "source": [
        "nilai_mahasiswa = 98\n",
        "standar_kelulusan = 75\n",
        "apakah_lulus = nilai_mahasiswa >= standar_kelulusan\n",
        "perlu_remedial = nilai_mahasiswa < standar_kelulusan\n",
        "\n",
        "print(f\"Nilai mahasiswa: {nilai_mahasiswa}\")\n",
        "print(f\"Standar kelulusan: {standar_kelulusan}\")\n",
        "print(f\"Apakah mahasiswa lulus? {apakah_lulus}\")\n",
        "print(f\"Perlu Remedial? {perlu_remedial}\")"
      ],
      "metadata": {
        "colab": {
          "base_uri": "https://localhost:8080/"
        },
        "id": "2Y-0ikBxh24z",
        "outputId": "7276aeeb-73cf-4042-e7bd-c9926633e9fb"
      },
      "execution_count": 6,
      "outputs": [
        {
          "output_type": "stream",
          "name": "stdout",
          "text": [
            "Nilai mahasiswa: 98\n",
            "Standar kelulusan: 75\n",
            "Apakah mahasiswa lulus? True\n",
            "Perlu Remedial? False\n"
          ]
        }
      ]
    },
    {
      "cell_type": "code",
      "source": [
        "tugas1 = float(input(\"Masukkan nilai tugas1: \"))\n",
        "tugas2 = float(input(\"Masukkan nilai tugas2: \"))\n",
        "tugas3 = float(input(\"Masukkan Nilai tugas 3: \"))\n",
        "uts = float(input(\"masukan nilai uts: \"))\n",
        "aas = float(input(\"masukkan nlai aas : \" ))\n",
        "nilai_mahasiswa = (tugas1 + tugas2 + tugas3 + uts +aas) / 5\n",
        "standar_kelulusan = float(input(\"Standar kelulusan: \"))\n",
        "apakah_lulus = nilai_mahasiswa >= standar_kelulusan\n",
        "perlu_remedial = nilai_mahasiswa < standar_kelulusan\n",
        "\n",
        "print(f\"Nilai mahasiswa: {nilai_mahasiswa}\")\n",
        "print(f\"Standar Kelulusan: {standar_kelulusan}\")\n",
        "print(f\"Apakah Mahasiswa lulus? {apakah_lulus}\")\n",
        "print(f\"Perlu Remedial? {perlu_remedial}\")"
      ],
      "metadata": {
        "colab": {
          "base_uri": "https://localhost:8080/"
        },
        "id": "YUZl4ND9o7VJ",
        "outputId": "56349139-6640-4629-e3a6-4be8ddc48562"
      },
      "execution_count": 10,
      "outputs": [
        {
          "output_type": "stream",
          "name": "stdout",
          "text": [
            "Masukkan nilai tugas1: 80\n",
            "Masukkan nilai tugas2: 82\n",
            "Masukkan Nilai tugas 3: 87\n",
            "masukan nilai uts: 90\n",
            "masukkan nlai aas : 92\n",
            "Standar kelulusan: 85\n",
            "Nilai mahasiswa: 86.2\n",
            "Standar Kelulusan: 85.0\n",
            "Apakah Mahasiswa lulus? True\n",
            "Perlu Remedial? False\n"
          ]
        }
      ]
    },
    {
      "cell_type": "code",
      "source": [
        "belanja = int(input(\"masukkan total belanja: \"))\n",
        "if belanja > 1000000:\n",
        "  diskon = 0.35 * belanja\n",
        "elif belanja > 500000:\n",
        "  diskon = 0.1 * belanja\n",
        "else:\n",
        "  diskon = 0\n",
        "total_harga = belanja - diskon\n",
        "\n",
        "print(\"total belanja : Rp\", belanja)\n",
        "print(\"diskon ; Rp\", diskon)\n",
        "print(\"total harga bayar : Rp\", total_harga)\n",
        "\n"
      ],
      "metadata": {
        "id": "H2mMe4bQsIoW",
        "colab": {
          "base_uri": "https://localhost:8080/"
        },
        "outputId": "507d0988-2167-4434-b9a8-a88f3c29927b"
      },
      "execution_count": 12,
      "outputs": [
        {
          "output_type": "stream",
          "name": "stdout",
          "text": [
            "masukkan total belanja: 1200000\n",
            "total belanja : Rp 1200000\n",
            "diskon ; Rp 420000.0\n",
            "total harga bayar : Rp 780000.0\n"
          ]
        }
      ]
    }
  ]
}