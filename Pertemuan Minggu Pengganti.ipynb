{
  "nbformat": 4,
  "nbformat_minor": 0,
  "metadata": {
    "colab": {
      "provenance": [],
      "authorship_tag": "ABX9TyOSyubKTtco0TAfeDoCrb8S",
      "include_colab_link": true
    },
    "kernelspec": {
      "name": "python3",
      "display_name": "Python 3"
    },
    "language_info": {
      "name": "python"
    }
  },
  "cells": [
    {
      "cell_type": "markdown",
      "metadata": {
        "id": "view-in-github",
        "colab_type": "text"
      },
      "source": [
        "<a href=\"https://colab.research.google.com/github/anandaptrnrl-12/Pemograman-Dasar/blob/main/Pertemuan%20Minggu%20Pengganti.ipynb\" target=\"_parent\"><img src=\"https://colab.research.google.com/assets/colab-badge.svg\" alt=\"Open In Colab\"/></a>"
      ]
    },
    {
      "cell_type": "code",
      "execution_count": 2,
      "metadata": {
        "colab": {
          "base_uri": "https://localhost:8080/"
        },
        "id": "B-qDY6Z3wGY4",
        "outputId": "14ade268-dfc8-435b-ebae-8a7b97907f4b"
      },
      "outputs": [
        {
          "output_type": "stream",
          "name": "stdout",
          "text": [
            "Sistem siap. Selamat datang kembali di sesi praktikum.\n",
            "Biodata Lengkap:\n",
            "Nama       : Ananda\n",
            "Umur       : 20 tahun\n",
            "Jurusan    : Teknik Elektro\n",
            "Universitas: Politeknik Negeri Batam\n"
          ]
        }
      ],
      "source": [
        "\n",
        "# SOAL 1: Fungsi Inisialisasi Sederhana\n",
        "def sapa_praktikan():\n",
        "    \"\"\"Mencetak pesan sambutan dasar.\"\"\"\n",
        "    print(\"Sistem siap. Selamat datang kembali di sesi praktikum.\")\n",
        "\n",
        "# Fungsi baru untuk menampilkan Biodata lengkap\n",
        "def Biodata():\n",
        "    \"\"\"Menampilkan biodata lengkap.\"\"\"\n",
        "    nama = \"Ananda\"\n",
        "    umur = 20\n",
        "    jurusan = \"Teknik Elektro\"\n",
        "    universitas = \"Politeknik Negeri Batam\"\n",
        "\n",
        "    print(\"Biodata Lengkap:\")\n",
        "    print(f\"Nama       : {nama}\")\n",
        "    print(f\"Umur       : {umur} tahun\")\n",
        "    print(f\"Jurusan    : {jurusan}\")\n",
        "    print(f\"Universitas: {universitas}\")\n",
        "\n",
        "# Pemanggilan fungsi\n",
        "sapa_praktikan()\n",
        "Biodata()"
      ]
    },
    {
      "cell_type": "code",
      "source": [
        "# SOAL 2: Menghitung Volume Kubus\n",
        "\n",
        "def hitung_volume_kubus(sisi):\n",
        "    \"\"\"Menghitung volume kubus dari panjang sisinya.\"\"\"\n",
        "    return sisi ** 3\n",
        "\n",
        "def hitung_volume_balok(panjang, lebar, tinggi):\n",
        "    \"\"\"Menghitung volume balok dari panjang, lebar, dan tingginya.\"\"\"\n",
        "    return panjang * lebar * tinggi\n",
        "\n",
        "# Pemanggilan fungsi kubus\n",
        "panjang_sisi = 5\n",
        "print(f\"Volume kubus dengan sisi {panjang_sisi} adalah: {hitung_volume_kubus(panjang_sisi)}\")\n",
        "\n",
        "# Pemanggilan fungsi balok (modifikasi)\n",
        "p = 10\n",
        "l = 5\n",
        "t = 3\n",
        "print(f\"Volume balok dengan panjang {p}, lebar {l}, dan tinggi {t} adalah: {hitung_volume_balok(p, l, t)}\")\n",
        "\n",
        "\n",
        ""
      ],
      "metadata": {
        "colab": {
          "base_uri": "https://localhost:8080/"
        },
        "id": "ccdk3ChvxRwJ",
        "outputId": "c9a3a394-4418-4eec-b37a-74fa8baaa01e"
      },
      "execution_count": 3,
      "outputs": [
        {
          "output_type": "stream",
          "name": "stdout",
          "text": [
            "Volume kubus dengan sisi 5 adalah: 125\n",
            "Volume balok dengan panjang 10, lebar 5, dan tinggi 3 adalah: 150\n"
          ]
        }
      ]
    },
    {
      "cell_type": "code",
      "source": [
        "# SOAL 3: Menghitung Rata-rata dari List Nilai dengan Validasi\n",
        "\n",
        "def hitung_rata_rata(data_nilai):\n",
        "    \"\"\"Menghitung rata-rata dari list angka menggunakan perulangan for dengan pengecekan nilai valid.\"\"\"\n",
        "    total = 0\n",
        "    jumlah_nilai_valid = 0\n",
        "\n",
        "    # Perulangan untuk menjumlahkan nilai valid\n",
        "    for nilai in data_nilai:\n",
        "        # Cek apakah nilai berada di antara 0 dan 100\n",
        "        if 0 <= nilai <= 100:\n",
        "            total += nilai\n",
        "            jumlah_nilai_valid += 1\n",
        "        else:\n",
        "            # Berikan penalti (contoh: abaikan nilai dan tampilkan peringatan)\n",
        "            print(f\"Nilai {nilai} tidak valid dan diabaikan.\")\n",
        "\n",
        "    # Pembagian untuk rata-rata\n",
        "    if jumlah_nilai_valid > 0:\n",
        "        return total / jumlah_nilai_valid\n",
        "    return 0\n",
        "\n",
        "# Pemanggilan:\n",
        "nilai_praktikan = [85, 78, 92, 65, 90, -5, 105]  # Contoh nilai ada yang tidak valid\n",
        "print(f\"Nilai rata-rata kelas adalah: {hitung_rata_rata(nilai_praktikan)}\")\n"
      ],
      "metadata": {
        "colab": {
          "base_uri": "https://localhost:8080/"
        },
        "id": "DREsBMOMyRHb",
        "outputId": "2ad8f6da-d0f6-4e62-bf89-a3bfa708f864"
      },
      "execution_count": 4,
      "outputs": [
        {
          "output_type": "stream",
          "name": "stdout",
          "text": [
            "Nilai -5 tidak valid dan diabaikan.\n",
            "Nilai 105 tidak valid dan diabaikan.\n",
            "Nilai rata-rata kelas adalah: 82.0\n"
          ]
        }
      ]
    },
    {
      "cell_type": "code",
      "source": [
        "# SOAL 3: Menghitung Rata-rata dari List Nilai dengan Validasi\n",
        "\n",
        "def hitung_rata_rata(data_nilai):\n",
        "    \"\"\"Menghitung rata-rata dari list angka menggunakan perulangan for dengan pengecekan nilai valid.\"\"\"\n",
        "    total = 0\n",
        "    jumlah_nilai_valid = 0\n",
        "\n",
        "    # Perulangan untuk menjumlahkan nilai valid\n",
        "    for nilai in data_nilai:\n",
        "        # Cek apakah nilai berada di antara 0 dan 100\n",
        "        if 0 <= nilai <= 100:\n",
        "            total += nilai\n",
        "            jumlah_nilai_valid += 1\n",
        "        else:\n",
        "            # Berikan penalti (contoh: abaikan nilai dan tampilkan peringatan)\n",
        "            print(f\"Nilai {nilai} tidak valid dan diabaikan.\")\n",
        "\n",
        "    # Pembagian untuk rata-rata\n",
        "    if jumlah_nilai_valid > 0:\n",
        "        return total / jumlah_nilai_valid\n",
        "    return 0\n",
        "\n",
        "# Pemanggilan:\n",
        "nilai_praktikan = [85, 78, 92, 65, 90, -5, 105]  # Contoh nilai ada yang tidak valid\n",
        "print(f\"Nilai rata-rata kelas adalah: {hitung_rata_rata(nilai_praktikan)}\")\n"
      ],
      "metadata": {
        "colab": {
          "base_uri": "https://localhost:8080/"
        },
        "id": "XtlcV1SRyWFO",
        "outputId": "c0f0532b-63cc-40dd-82c1-5830c0c87463"
      },
      "execution_count": 5,
      "outputs": [
        {
          "output_type": "stream",
          "name": "stdout",
          "text": [
            "Nilai -5 tidak valid dan diabaikan.\n",
            "Nilai 105 tidak valid dan diabaikan.\n",
            "Nilai rata-rata kelas adalah: 82.0\n"
          ]
        }
      ]
    },
    {
      "cell_type": "code",
      "source": [
        "# SOAL 5: Menghitung Faktorial dengan Loop While\n",
        "def hitung_faktorial(n):\n",
        "    \"\"\"Menghitung faktorial dari bilangan positif n.\"\"\"\n",
        "\n",
        "    # Percabangan untuk menangani kasus khusus\n",
        "    if n < 0:\n",
        "        return \"Error: Faktorial tidak terdefinisi untuk bilangan negatif.\"\n",
        "    elif n == 0:\n",
        "        return 1  # Faktorial dari 0 adalah 1\n",
        "\n",
        "    hasil = 1\n",
        "\n",
        "    # Perulangan berjalan selama n lebih besar dari 1\n",
        "    while n > 1:\n",
        "        hasil *= n\n",
        "        n -= 1  # Kurangi n setiap iterasi\n",
        "\n",
        "    return hasil\n",
        "\n",
        "\n",
        "# Pemanggilan\n",
        "bilangan_n = 4\n",
        "print(f\"Faktorial dari {bilangan_n} adalah: {hitung_faktorial(bilangan_n)}\")\n",
        "\n",
        "# Contoh tambahan\n",
        "print(f\"Faktorial dari 0 adalah: {hitung_faktorial(0)}\")\n",
        "print(f\"Faktorial dari -3 adalah: {hitung_faktorial(-3)}\")\n"
      ],
      "metadata": {
        "colab": {
          "base_uri": "https://localhost:8080/"
        },
        "id": "o9P0I4cIyay6",
        "outputId": "89bdc62b-991a-40b0-dd99-b434c29b0ef0"
      },
      "execution_count": 6,
      "outputs": [
        {
          "output_type": "stream",
          "name": "stdout",
          "text": [
            "Faktorial dari 4 adalah: 24\n",
            "Faktorial dari 0 adalah: 1\n",
            "Faktorial dari -3 adalah: Error: Faktorial tidak terdefinisi untuk bilangan negatif.\n"
          ]
        }
      ]
    },
    {
      "cell_type": "code",
      "source": [
        "# SOAL 6: Analisis Data Suhu Ekstrem (for dan if/elif)\n",
        "def analisis_suhu(data_suhu, batas_panas=35, batas_dingin=15):\n",
        "    \"\"\"Menghitung jumlah hari Panas dan Dingin dari data_suhu.\"\"\"\n",
        "    panas_count = 0\n",
        "    dingin_count = 0 # Melengkapi baris ini\n",
        "\n",
        "    for suhu in data_suhu:\n",
        "        if suhu >= batas_panas: # Menggunakan parameter batas_panas\n",
        "            panas_count += 1\n",
        "        elif suhu <= batas_dingin: # Melengkapi kondisi elif dan menggunakan batas_dingin\n",
        "            dingin_count += 1\n",
        "\n",
        "    return panas_count, dingin_count\n",
        "\n",
        "# Pemanggilan:\n",
        "suhu_mingguan = [36, 30, 14, 25, 38, 16, 28]\n",
        "\n",
        "# Pemanggilan tanpa parameter opsional (menggunakan default 35 dan 15)\n",
        "jumlah_panas, jumlah_dingin = analisis_suhu(suhu_mingguan)\n",
        "print(f\"Jumlah hari Panas (>=35°C): {jumlah_panas}\")\n",
        "print(f\"Jumlah hari Dingin (<=15°C): {jumlah_dingin}\")\n",
        "\n",
        "print(\"-\" * 30)"
      ],
      "metadata": {
        "colab": {
          "base_uri": "https://localhost:8080/"
        },
        "id": "9d-I3Ij8yfIp",
        "outputId": "397e5be9-ffd7-4468-fdaf-d574899b3432"
      },
      "execution_count": 7,
      "outputs": [
        {
          "output_type": "stream",
          "name": "stdout",
          "text": [
            "Jumlah hari Panas (>=35°C): 2\n",
            "Jumlah hari Dingin (<=15°C): 1\n",
            "------------------------------\n"
          ]
        }
      ]
    },
    {
      "cell_type": "code",
      "source": [],
      "metadata": {
        "id": "9kzAlhcUyilQ"
      },
      "execution_count": null,
      "outputs": []
    }
  ]
}