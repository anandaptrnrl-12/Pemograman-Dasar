{
  "nbformat": 4,
  "nbformat_minor": 0,
  "metadata": {
    "colab": {
      "provenance": [],
      "authorship_tag": "ABX9TyMqKWbb4teR0SCKx7pxcp1l",
      "include_colab_link": true
    },
    "kernelspec": {
      "name": "python3",
      "display_name": "Python 3"
    },
    "language_info": {
      "name": "python"
    }
  },
  "cells": [
    {
      "cell_type": "markdown",
      "metadata": {
        "id": "view-in-github",
        "colab_type": "text"
      },
      "source": [
        "<a href=\"https://colab.research.google.com/github/anandaptrnrl-12/Pemograman-Dasar/blob/main/Tugas%20Pertemuan%202.ipynb\" target=\"_parent\"><img src=\"https://colab.research.google.com/assets/colab-badge.svg\" alt=\"Open In Colab\"/></a>"
      ]
    },
    {
      "cell_type": "code",
      "execution_count": 19,
      "metadata": {
        "colab": {
          "base_uri": "https://localhost:8080/"
        },
        "id": "BpjAcqqcSxt9",
        "outputId": "42937434-e5a6-4a97-d589-a1b59abd5d47"
      },
      "outputs": [
        {
          "output_type": "stream",
          "name": "stdout",
          "text": [
            "Ananda Widia 20 False\n"
          ]
        }
      ],
      "source": [
        "firstName = 'Ananda'\n",
        "lastName = 'Widia'\n",
        "age = 20\n",
        "isMarried = False\n",
        "\n",
        "print(firstName, lastName, age, isMarried)"
      ]
    },
    {
      "cell_type": "code",
      "source": [
        "data_diri = {\n",
        "    \"firstName\" : \"Ananda\" ,\n",
        "    \"lastName\" : \"Widia\" ,\n",
        "    \"age\" : 20 ,\n",
        "    \"isMarried\" : False\n",
        "}\n",
        "\n",
        "print(data_diri)"
      ],
      "metadata": {
        "colab": {
          "base_uri": "https://localhost:8080/"
        },
        "id": "K2arfuTUXfk3",
        "outputId": "dc9fae67-1db1-4bd7-c30f-eb356db4caf3"
      },
      "execution_count": 21,
      "outputs": [
        {
          "output_type": "stream",
          "name": "stdout",
          "text": [
            "{'firstName': 'Ananda', 'lastName': 'Widia', 'age': 20, 'isMarried': False}\n"
          ]
        }
      ]
    },
    {
      "cell_type": "code",
      "source": [
        "inspeksi = [\n",
        "    \"pemahaman terhadap rencana dan desain\",\n",
        "    \"ketersediaan bahan dan peralatan\",\n",
        "    \"pengawasan pekerjaan\",\n",
        "    \"kualitas konstruksi\",\n",
        "    \"keselamatan kerja\",\n",
        "    \"koodinasi dengan pemilik proyek\",\n",
        "]\n",
        "\n",
        "print(inspeksi)"
      ],
      "metadata": {
        "colab": {
          "base_uri": "https://localhost:8080/"
        },
        "id": "HnTs3S8yYEmw",
        "outputId": "73d8ce3a-7fcc-497c-8154-a36cecb18f71"
      },
      "execution_count": 24,
      "outputs": [
        {
          "output_type": "stream",
          "name": "stdout",
          "text": [
            "['pemahaman terhadap rencana dan desain', 'ketersediaan bahan dan peralatan', 'pengawasan pekerjaan', 'kualitas konstruksi', 'keselamatan kerja', 'koodinasi dengan pemilik proyek']\n"
          ]
        }
      ]
    },
    {
      "cell_type": "code",
      "source": [
        "startTime = {\n",
        "    \"HH\": 9,\n",
        "    \"mm\": 23,\n",
        "    \"ss\": 57\n",
        "}\n",
        "\n",
        "endTime = {\n",
        "    \"HH\": 15,\n",
        "    \"mm\": 25,\n",
        "    \"ss\": 43\n",
        "}\n",
        "\n",
        "print(\"Start:\", startTime)\n",
        "print(\"End:\", endTime)"
      ],
      "metadata": {
        "colab": {
          "base_uri": "https://localhost:8080/"
        },
        "id": "9_0mBIZ8ZB4z",
        "outputId": "726cdc0e-cbf4-47aa-c265-0d471e91b557"
      },
      "execution_count": 26,
      "outputs": [
        {
          "output_type": "stream",
          "name": "stdout",
          "text": [
            "Start: {'HH': 9, 'mm': 23, 'ss': 57}\n",
            "End: {'HH': 15, 'mm': 25, 'ss': 43}\n"
          ]
        }
      ]
    },
    {
      "cell_type": "code",
      "source": [
        "katalog_A = {\"Buku\", \"Pena\", \"Pensil\", \"Penghapus\"}\n",
        "katalog_B = {\"Pensil\", \"Penggaris\", \"Buku Gambar\", \"Spidol\"}\n",
        "produk_diskon = (\"Buku\", \"Spidol\")\n",
        "\n",
        "katalog_lengkap = katalog_A.union(katalog_B)\n",
        "\n",
        "produk_promo_aktif = katalog_lengkap.intersection(produk_diskon)\n",
        "\n",
        "print(\"katalog_lengkap:\", katalog_lengkap)\n",
        "print(\"produk_promo_aktif:\", produk_promo_aktif)"
      ],
      "metadata": {
        "colab": {
          "base_uri": "https://localhost:8080/"
        },
        "id": "ANmPgnpHaF--",
        "outputId": "5b4f37ba-9690-4e0d-eda9-297a07ecc6cf"
      },
      "execution_count": 27,
      "outputs": [
        {
          "output_type": "stream",
          "name": "stdout",
          "text": [
            "katalog_lengkap: {'Pensil', 'Buku Gambar', 'Spidol', 'Buku', 'Penghapus', 'Pena', 'Penggaris'}\n",
            "produk_promo_aktif: {'Spidol', 'Buku'}\n"
          ]
        }
      ]
    }
  ]
}