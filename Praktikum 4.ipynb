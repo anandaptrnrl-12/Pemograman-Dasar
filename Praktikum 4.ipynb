{
  "nbformat": 4,
  "nbformat_minor": 0,
  "metadata": {
    "colab": {
      "provenance": [],
      "authorship_tag": "ABX9TyMuwA8RJdJNwdqFgutmiAff",
      "include_colab_link": true
    },
    "kernelspec": {
      "name": "python3",
      "display_name": "Python 3"
    },
    "language_info": {
      "name": "python"
    }
  },
  "cells": [
    {
      "cell_type": "markdown",
      "metadata": {
        "id": "view-in-github",
        "colab_type": "text"
      },
      "source": [
        "<a href=\"https://colab.research.google.com/github/anandaptrnrl-12/Pemograman-Dasar/blob/main/Praktikum%204.ipynb\" target=\"_parent\"><img src=\"https://colab.research.google.com/assets/colab-badge.svg\" alt=\"Open In Colab\"/></a>"
      ]
    },
    {
      "cell_type": "code",
      "execution_count": 1,
      "metadata": {
        "colab": {
          "base_uri": "https://localhost:8080/"
        },
        "id": "ZYMh6WUypQAD",
        "outputId": "3186bf39-34c9-4628-9575-6c054c094372"
      },
      "outputs": [
        {
          "output_type": "stream",
          "name": "stdout",
          "text": [
            "pengunjung adalah orang dewasa.\n"
          ]
        }
      ],
      "source": [
        "umur: int = 20\n",
        "if umur > 17:\n",
        "  print(\"pengunjung adalah orang dewasa.\")"
      ]
    },
    {
      "cell_type": "code",
      "source": [
        "username = input(\"Masukkan usernme: \")\n",
        "password = input(\"Masukkan password: \")\n",
        "\n",
        "if username == \"admin\" and password == \"1234\":\n",
        "  print(\"Login berhasil\")\n",
        "else:\n",
        "        print(\"Login gagal\")\n"
      ],
      "metadata": {
        "colab": {
          "base_uri": "https://localhost:8080/"
        },
        "id": "l7WZS0zXraPO",
        "outputId": "45fee1be-d057-431e-d576-94a55425305b"
      },
      "execution_count": 4,
      "outputs": [
        {
          "output_type": "stream",
          "name": "stdout",
          "text": [
            "Masukkan usernme: admin\n",
            "Masukkan password: 1234\n",
            "Login berhasil\n"
          ]
        }
      ]
    },
    {
      "cell_type": "code",
      "source": [
        "total_belanja = input(\"total belanja: Rp \")\n",
        "bayar = int(total_belanja)\n",
        "if int(total_belanja) > 100000:\n",
        " print(\"Selamat karena belanja > Rp. 100,000 anda dapat voucher makan\")\n",
        " print(\"dan diskon 5%\")\n",
        "diskon = int(total_belanja) * 5/100 #5%\n",
        "bayar = int(total_belanja) - diskon\n",
        "print(\"Total yang harus dibayar: Rp %s\" % bayar)\n",
        "print(\"Terimakasih sudah belanja ditoko kami\")\n",
        "print(\"Kami tunggu kedatangan selnajutnya\")"
      ],
      "metadata": {
        "colab": {
          "base_uri": "https://localhost:8080/"
        },
        "id": "K3XPoZAfsWIK",
        "outputId": "84a8855a-e7e4-4599-e62c-3b95eabfc32b"
      },
      "execution_count": 10,
      "outputs": [
        {
          "output_type": "stream",
          "name": "stdout",
          "text": [
            "total belanja: Rp 150000\n",
            "Selamat karena belanja > Rp. 100,000 anda dapat voucher makan\n",
            "dan diskon 5%\n",
            "Total yang harus dibayar: Rp 142500.0\n",
            "Terimakasih sudah belanja ditoko kami\n",
            "Kami tunggu kedatangan selnajutnya\n"
          ]
        }
      ]
    },
    {
      "cell_type": "code",
      "source": [
        "ada_notifikasi_baru: bool = True\n",
        "if ada_notifikasi_baru:\n",
        "  print(\"Anda memiliki pesan baru!\")"
      ],
      "metadata": {
        "colab": {
          "base_uri": "https://localhost:8080/"
        },
        "id": "PGbdAEgtu5wo",
        "outputId": "75decfef-3ba2-4177-c5b3-1ecd7bfc297d"
      },
      "execution_count": 11,
      "outputs": [
        {
          "output_type": "stream",
          "name": "stdout",
          "text": [
            "Anda memiliki pesan baru!\n"
          ]
        }
      ]
    },
    {
      "cell_type": "code",
      "source": [
        "umur = input(\"Berapa umur kamu: \")\n",
        "if int(umur) >= 18:\n",
        "  print(\"Kamu boleh membuat SIM\")\n",
        "else:\n",
        "  print(\"kamu belum boleh membuat sim\")"
      ],
      "metadata": {
        "colab": {
          "base_uri": "https://localhost:8080/"
        },
        "id": "P7R-2EVly9-i",
        "outputId": "96253eb2-b922-43f8-bccb-2485a4f705b1"
      },
      "execution_count": 14,
      "outputs": [
        {
          "output_type": "stream",
          "name": "stdout",
          "text": [
            "Berapa umur kamu: 19\n",
            "Kamu boleh membuat SIM\n"
          ]
        }
      ]
    },
    {
      "cell_type": "code",
      "source": [
        "total_belanja = 30000\n",
        "if total_belanja > 200000:\n",
        "  diskon = total_belanja * 0.10\n",
        "  total_bayar = total_belanja - diskon\n",
        "  print(f\"Anda mendapatkan diskon! Total bayar : Rp {total_bayar}\")\n",
        "else:\n",
        "    print(F\"Total bayar: Rp {total_belanja}\")"
      ],
      "metadata": {
        "colab": {
          "base_uri": "https://localhost:8080/"
        },
        "id": "U2zfIQKGzLil",
        "outputId": "5af09146-9166-4342-9e18-07d34935d02c"
      },
      "execution_count": 21,
      "outputs": [
        {
          "output_type": "stream",
          "name": "stdout",
          "text": [
            "Total bayar: Rp 30000\n"
          ]
        }
      ]
    },
    {
      "cell_type": "code",
      "source": [
        "angka = int(input(\"Masukkan bilangan: \"))\n",
        "if angka %2 == 0:\n",
        "  print(\"Bilangan genap\")\n",
        "else:\n",
        "  print(\"Bilangan ganjil\")"
      ],
      "metadata": {
        "colab": {
          "base_uri": "https://localhost:8080/"
        },
        "id": "Dfc1CVkF0en8",
        "outputId": "d3c990bd-716d-4215-a36d-4b3112efbddb"
      },
      "execution_count": 24,
      "outputs": [
        {
          "output_type": "stream",
          "name": "stdout",
          "text": [
            "Masukkan bilangan: 25\n",
            "Bilangan ganjil\n"
          ]
        }
      ]
    },
    {
      "cell_type": "code",
      "source": [
        "nilai = 80\n",
        "if nilai >= 85:\n",
        "  print(\"Luar biasa nilai A\")\n",
        "elif nilai >= 70:\n",
        "  print(\"Bagus! Nilai B\")\n",
        "elif nilai >= 60:\n",
        "  print(\"Cukup, Nilai c\")\n",
        "else:\n",
        "  print(\"Nilai kurang, Perlu belajar lebih giat. \")"
      ],
      "metadata": {
        "colab": {
          "base_uri": "https://localhost:8080/"
        },
        "id": "KHYZh99i1Rrv",
        "outputId": "7ee3d825-90ff-483e-b025-1df134e0ea49"
      },
      "execution_count": 25,
      "outputs": [
        {
          "output_type": "stream",
          "name": "stdout",
          "text": [
            "Bagus! Nilai B\n"
          ]
        }
      ]
    },
    {
      "cell_type": "code",
      "source": [
        "hari: str = \"sabtu\"\n",
        "\n",
        "if hari == \"sabtu\" or hari == \"Minggu\":\n",
        "  diskon: float = 0.20 # Diskon 20%\n",
        "  print(F\"Selamat! Anda mendapatkan diskon akhir pekan sebesar {diskon*100}%.\")\n",
        "elif hari == \"jumat\":\n",
        "  diskon: float = 0.15 # Diskon 15%\n",
        "  print(f\"Diskon spesial Jumat! Anda mendapat potongan {diskon*100}%.\")\n",
        "else:\n",
        "  diskon: float - 0.05 # Diskon 5%\n",
        "  print(f\"Anda mendapat diskon hari biasa sebesar {diskon*100}%.\")"
      ],
      "metadata": {
        "colab": {
          "base_uri": "https://localhost:8080/"
        },
        "id": "KaKfFSnh5sJi",
        "outputId": "fde231e3-4fc9-4083-c69c-cf004a48eb62"
      },
      "execution_count": 26,
      "outputs": [
        {
          "output_type": "stream",
          "name": "stdout",
          "text": [
            "Selamat! Anda mendapatkan diskon akhir pekan sebesar 20.0%.\n"
          ]
        }
      ]
    },
    {
      "cell_type": "code",
      "source": [
        "rupiah = int(input(\"Masukkan jumlah uang (Rp): \"))\n",
        "print(\"1. Dollar (USD)\")\n",
        "print(\"2. Euro (EUR)\")\n",
        "print(\"3. Yen (JPY)\")\n",
        "pilih = int(input(\"Pilih konversi (1/2/3): \"))\n",
        "\n",
        "if pilih == 1:\n",
        "  print(\"Dalam Dollar:\", rupiah / 15000)\n",
        "elif pilih == 2:\n",
        "  print(\"Dalam Euro:\", rupiah / 16000)\n",
        "elif pilih == 3:\n",
        "  print(\"Dalam Yen:\", rupiah / 120)\n",
        "else:\n",
        "  print(\"pilihan tidak valid\")"
      ],
      "metadata": {
        "colab": {
          "base_uri": "https://localhost:8080/"
        },
        "id": "IP-9O3Oi7npN",
        "outputId": "9bcfbe3f-e760-4f64-c012-6488b1115837"
      },
      "execution_count": 27,
      "outputs": [
        {
          "output_type": "stream",
          "name": "stdout",
          "text": [
            "Masukkan jumlah uang (Rp): 100000\n",
            "1. Dollar (USD)\n",
            "2. Euro (EUR)\n",
            "3. Yen (JPY)\n",
            "Pilih konversi (1/2/3): 2\n",
            "Dalam Euro: 6.25\n"
          ]
        }
      ]
    },
    {
      "cell_type": "code",
      "source": [],
      "metadata": {
        "id": "iBKfKGn89Q3v"
      },
      "execution_count": null,
      "outputs": []
    },
    {
      "cell_type": "code",
      "source": [],
      "metadata": {
        "id": "GdQADQ-3_Z5W"
      },
      "execution_count": null,
      "outputs": []
    }
  ]
}