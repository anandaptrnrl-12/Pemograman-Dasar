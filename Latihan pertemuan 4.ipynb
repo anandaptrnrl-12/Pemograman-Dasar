{
  "nbformat": 4,
  "nbformat_minor": 0,
  "metadata": {
    "colab": {
      "provenance": [],
      "authorship_tag": "ABX9TyOiPsWmiNQBR/JOd/rDmy1E",
      "include_colab_link": true
    },
    "kernelspec": {
      "name": "python3",
      "display_name": "Python 3"
    },
    "language_info": {
      "name": "python"
    }
  },
  "cells": [
    {
      "cell_type": "markdown",
      "metadata": {
        "id": "view-in-github",
        "colab_type": "text"
      },
      "source": [
        "<a href=\"https://colab.research.google.com/github/anandaptrnrl-12/Pemograman-Dasar/blob/main/Latihan%20pertemuan%204.ipynb\" target=\"_parent\"><img src=\"https://colab.research.google.com/assets/colab-badge.svg\" alt=\"Open In Colab\"/></a>"
      ]
    },
    {
      "cell_type": "code",
      "execution_count": 2,
      "metadata": {
        "colab": {
          "base_uri": "https://localhost:8080/"
        },
        "id": "tWe2KQnjAcBL",
        "outputId": "9755f608-2142-4f3b-ad1a-e596831df165"
      },
      "outputs": [
        {
          "output_type": "stream",
          "name": "stdout",
          "text": [
            "Masukkan sebuah angka: 12\n",
            "Bukan kelipatan 5\n"
          ]
        }
      ],
      "source": [
        "angka = int(input(\"Masukkan sebuah angka: \"))\n",
        "\n",
        "if angka % 5 == 0:\n",
        "    print(\"Kelipatan 5\")\n",
        "else:\n",
        "    print(\"Bukan kelipatan 5\")\n",
        ""
      ]
    },
    {
      "cell_type": "code",
      "source": [
        "tahun = int(input(\"Masukkan tahun: \"))\n",
        "\n",
        "if tahun % 400 == 0:\n",
        "    print(tahun, \"adalah tahun kabisat\")\n",
        "elif tahun % 100 == 0:\n",
        "    print(tahun, \"bukan tahun kabisat\")\n",
        "elif tahun % 4 == 0:\n",
        "    print(tahun, \"adalah tahun kabisat\")\n",
        "else:\n",
        "    print(tahun, \"bukan tahun kabisat\")\n",
        "\n"
      ],
      "metadata": {
        "colab": {
          "base_uri": "https://localhost:8080/"
        },
        "id": "iSK6mYgzArAc",
        "outputId": "fe88b907-d1d8-4d05-f51f-f153050d45cf"
      },
      "execution_count": 4,
      "outputs": [
        {
          "output_type": "stream",
          "name": "stdout",
          "text": [
            "Masukkan tahun: 2025\n",
            "2025 bukan tahun kabisat\n"
          ]
        }
      ]
    },
    {
      "cell_type": "code",
      "source": [
        "angka1 = int(input(\"Masukkan angka pertama: \"))\n",
        "angka2 = int(input(\"Masukkan angka kedua: \"))\n",
        "\n",
        "print(\"Pilih operasi: 1. Tambah  2. Kurang  3. Kali  4. Bagi\")\n",
        "pilihan = int(input(\"Pilihan Anda: \"))\n",
        "\n",
        "if pilihan == 1:\n",
        "    hasil = angka1 + angka2\n",
        "    print(\"Hasil penjumlahan =\", hasil)\n",
        "elif pilihan == 2:\n",
        "    hasil = angka1 - angka2\n",
        "    print(\"Hasil pengurangan =\", hasil)\n",
        "elif pilihan == 3:\n",
        "    hasil = angka1 * angka2\n",
        "    print(\"Hasil perkalian =\", hasil)\n",
        "elif pilihan == 4:\n",
        "    if angka2 != 0:\n",
        "        hasil = angka1 / angka2\n",
        "        print(\"Hasil pembagian =\", hasil)\n",
        "    else:\n",
        "        print(\"Tidak bisa dibagi 0\")\n",
        "else:\n",
        "    print(\"Pilihan salah\")\n",
        "\n",
        "\n"
      ],
      "metadata": {
        "colab": {
          "base_uri": "https://localhost:8080/"
        },
        "id": "9trshyhAA6_I",
        "outputId": "d07b9178-4b5a-4a36-d2d1-4e9ea46ed69f"
      },
      "execution_count": 5,
      "outputs": [
        {
          "output_type": "stream",
          "name": "stdout",
          "text": [
            "Masukkan angka pertama: 25\n",
            "Masukkan angka kedua: 5\n",
            "Pilih operasi: 1. Tambah  2. Kurang  3. Kali  4. Bagi\n",
            "Pilihan Anda: 3\n",
            "Hasil perkalian = 125\n"
          ]
        }
      ]
    },
    {
      "cell_type": "code",
      "source": [
        "bulan = int(input(\"Masukkan angka bulan (1-12): \"))\n",
        "\n",
        "daftar_bulan = [\n",
        "    \"Januari\", \"Februari\", \"Maret\", \"April\",\n",
        "    \"Mei\", \"Juni\", \"Juli\", \"Agustus\",\n",
        "    \"September\", \"Oktober\", \"November\", \"Desember\"\n",
        "    ]\n",
        "\n",
        "if 1 <= bulan <= 12:\n",
        "    print(\"Bulan:\", daftar_bulan[bulan-1])\n",
        "else:\n",
        "    print(\"Input salah\")"
      ],
      "metadata": {
        "colab": {
          "base_uri": "https://localhost:8080/"
        },
        "id": "jy9DkzZQBO7O",
        "outputId": "be105d8a-1c71-4d3f-8c01-52f6823bcfda"
      },
      "execution_count": 8,
      "outputs": [
        {
          "output_type": "stream",
          "name": "stdout",
          "text": [
            "Masukkan angka bulan (1-12): 7\n",
            "Bulan: Juli\n"
          ]
        }
      ]
    },
    {
      "cell_type": "code",
      "source": [
        "jam = int(input(\"Masukkan jam (0-23): \"))\n",
        "\n",
        "if 0 <= jam <= 11:\n",
        "    print(\"Selamat Pagi\")\n",
        "elif 12 <= jam <= 15:\n",
        "    print(\"Selamat Siang\")\n",
        "elif 16 <= jam <= 18:\n",
        "    print(\"Selamat Sore\")\n",
        "elif 19 <= jam <= 23:\n",
        "    print(\"Selamat Malam\")\n",
        "else:\n",
        "    print(\"Input salah\")\n",
        "\n"
      ],
      "metadata": {
        "colab": {
          "base_uri": "https://localhost:8080/"
        },
        "id": "ylG3CfKsBirR",
        "outputId": "dd3f329c-4db9-4729-f24f-32dd32df462b"
      },
      "execution_count": 10,
      "outputs": [
        {
          "output_type": "stream",
          "name": "stdout",
          "text": [
            "Masukkan jam (0-23): 18\n",
            "Selamat Sore\n"
          ]
        }
      ]
    },
    {
      "cell_type": "code",
      "source": [],
      "metadata": {
        "id": "-tT-GKBCB0Ba"
      },
      "execution_count": null,
      "outputs": []
    }
  ]
}