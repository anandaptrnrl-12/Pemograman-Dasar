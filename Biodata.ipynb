{
  "nbformat": 4,
  "nbformat_minor": 0,
  "metadata": {
    "colab": {
      "provenance": [],
      "authorship_tag": "ABX9TyNDi2jcqaDMqNteY6Tg/mfk",
      "include_colab_link": true
    },
    "kernelspec": {
      "name": "python3",
      "display_name": "Python 3"
    },
    "language_info": {
      "name": "python"
    }
  },
  "cells": [
    {
      "cell_type": "markdown",
      "metadata": {
        "id": "view-in-github",
        "colab_type": "text"
      },
      "source": [
        "<a href=\"https://colab.research.google.com/github/anandaptrnrl-12/Pemograman-Dasar/blob/main/Biodata.ipynb\" target=\"_parent\"><img src=\"https://colab.research.google.com/assets/colab-badge.svg\" alt=\"Open In Colab\"/></a>"
      ]
    },
    {
      "cell_type": "code",
      "execution_count": null,
      "metadata": {
        "id": "jBx3B-cTS_TQ",
        "colab": {
          "base_uri": "https://localhost:8080/"
        },
        "outputId": "634dee9d-6a38-4587-f3f1-fe38cd0300d6"
      },
      "outputs": [
        {
          "output_type": "stream",
          "name": "stdout",
          "text": [
            "Nanda\n",
            "20\n",
            "RPE\n",
            "3\n",
            "Pemograman Dasar\n",
            "False\n",
            "(78, 2)\n",
            "olahraga\n",
            "{'Kota': 'Batam', 'Provinsi': 'Kepri'}\n",
            "perempuan\n"
          ]
        }
      ],
      "source": [
        "nama = \"Nanda\"\n",
        "umur = 20\n",
        "jurusan = \"RPE\"\n",
        "semester = 3\n",
        "matakuliah = 'Pemograman Dasar'\n",
        "status_lulus = False\n",
        "nilai_ats = 78,2\n",
        "hobi = \"olahraga\"\n",
        "alamat = {\"Kota\" : \"Batam\" , \"Provinsi\" : \"Kepri\"}\n",
        "jenis_kelamin = \"perempuan\"\n",
        "\n",
        "print (nama)\n",
        "print (umur)\n",
        "print (jurusan)\n",
        "print (semester)\n",
        "print (matakuliah)\n",
        "print (status_lulus)\n",
        "print (nilai_ats)\n",
        "print (hobi)\n",
        "print (alamat)\n",
        "print (jenis_kelamin)"
      ]
    }
  ]
}